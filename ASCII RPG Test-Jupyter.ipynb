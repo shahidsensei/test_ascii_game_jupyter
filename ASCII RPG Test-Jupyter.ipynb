{
 "cells": [
  {
   "cell_type": "code",
   "execution_count": 16,
   "metadata": {
    "id": "8JrbntidCc9r",
    "outputId": "1dbf563c-c445-4a90-af10-4dab0051cd99"
   },
   "outputs": [
    {
     "name": "stdout",
     "output_type": "stream",
     "text": [
      "1. NEW GAME\n",
      "2. LOAD GAME\n",
      "3. RULES\n",
      "4. QUIT GAME\n"
     ]
    },
    {
     "name": "stdin",
     "output_type": "stream",
     "text": [
      "Enter Choice #  4\n"
     ]
    },
    {
     "name": "stdout",
     "output_type": "stream",
     "text": [
      "Goodbye!\n"
     ]
    }
   ],
   "source": [
    "from IPython.display import clear_output\n",
    "\n",
    "run = True\n",
    "menu = True\n",
    "play = False\n",
    "rules = False\n",
    "\n",
    "HP = 50\n",
    "ATK = 3\n",
    "\n",
    "def clear():\n",
    "    clear_output()\n",
    "\n",
    "def save():\n",
    "    list =  [\n",
    "        name,\n",
    "        str(HP),\n",
    "        str(ATK)\n",
    "    ]\n",
    "\n",
    "    f = open(\"load.txt\",\"w\")\n",
    "\n",
    "    for item in list:\n",
    "        f.write(item + \"\\n\")\n",
    "    f.close()\n",
    "\n",
    "while run:\n",
    "    while menu:\n",
    "        clear()\n",
    "        print(\"1. NEW GAME\")\n",
    "        print(\"2. LOAD GAME\")\n",
    "        print(\"3. RULES\")\n",
    "        print(\"4. QUIT GAME\")\n",
    "\n",
    "        if rules:\n",
    "            print(\"These are the rules.\")\n",
    "            rules = False\n",
    "            choice = \"\"\n",
    "            input(\"> \")\n",
    "        else:\n",
    "            choice = input(\"Enter Choice # \")\n",
    "\n",
    "        if choice == \"1\":\n",
    "            name = input(\"# What's your name, hero? \")\n",
    "            menu = False\n",
    "            play = True\n",
    "        elif choice == \"2\":\n",
    "            f = open(\"load.txt\", \"r\")\n",
    "            load_list = f.readlines()\n",
    "            name = load_list[0]\n",
    "            HP = load_list[1]\n",
    "            ATK = load_list[2]\n",
    "            clear()\n",
    "            print(f\"Welcome back, {name}!\")\n",
    "            input(\"Press Enter to continue.. > \")\n",
    "            menu = False\n",
    "            play = True\n",
    "        elif choice == \"3\":\n",
    "            rules = True\n",
    "        elif choice == \"4\":\n",
    "            print(\"Goodbye!\")\n",
    "            run = False\n",
    "            menu = False\n",
    "\n",
    "    while play:\n",
    "        save()\n",
    "        dest = input(\"Where to? # \")\n",
    "\n",
    "        if dest == \"0\":\n",
    "            play = False\n",
    "            menu = True\n",
    "            save()\n",
    "\n"
   ]
  },
  {
   "cell_type": "code",
   "execution_count": 35,
   "metadata": {
    "colab": {
     "base_uri": "https://localhost:8080/"
    },
    "executionInfo": {
     "elapsed": 7918,
     "status": "ok",
     "timestamp": 1718791946797,
     "user": {
      "displayName": "Noor Shahid Noorahman",
      "userId": "03285918153202417624"
     },
     "user_tz": -480
    },
    "id": "dDd0G2Do1QYf",
    "outputId": "fdf477a6-94c9-4287-d9cf-0ff39269d319"
   },
   "outputs": [
    {
     "name": "stdout",
     "output_type": "stream",
     "text": [
      "Requirement already satisfied: keyboard in /usr/local/lib/python3.10/dist-packages (0.13.5)\n"
     ]
    }
   ],
   "source": [
    "!pip install keyboard\n"
   ]
  },
  {
   "cell_type": "code",
   "execution_count": 4,
   "metadata": {
    "colab": {
     "base_uri": "https://localhost:8080/",
     "height": 1000
    },
    "executionInfo": {
     "elapsed": 403,
     "status": "error",
     "timestamp": 1718791954311,
     "user": {
      "displayName": "Noor Shahid Noorahman",
      "userId": "03285918153202417624"
     },
     "user_tz": -480
    },
    "id": "4pZ-OJa71MyV",
    "outputId": "bd813013-0a0d-4183-cdc7-47765586db0f"
   },
   "outputs": [
    {
     "name": "stdout",
     "output_type": "stream",
     "text": [
      "You pressed p\n"
     ]
    }
   ],
   "source": [
    "#this works\n",
    "import keyboard\n",
    "\n",
    "keyboard.record(until=\"p\")\n",
    "print(\"You pressed p\")"
   ]
  },
  {
   "cell_type": "code",
   "execution_count": 5,
   "metadata": {
    "id": "h6s7VaGi-ssi",
    "outputId": "feb63f38-d55f-4cb9-b27c-c7ea6826971b"
   },
   "outputs": [
    {
     "name": "stdout",
     "output_type": "stream",
     "text": [
      "You pressed p\n"
     ]
    }
   ],
   "source": [
    "#this works\n",
    "import keyboard\n",
    "\n",
    "while True:\n",
    "    if keyboard.is_pressed(\"p\"):\n",
    "        print(\"You pressed p\")\n",
    "        break"
   ]
  },
  {
   "cell_type": "code",
   "execution_count": 6,
   "metadata": {},
   "outputs": [
    {
     "name": "stdout",
     "output_type": "stream",
     "text": [
      "You pressed p\n"
     ]
    }
   ],
   "source": [
    "# this works\n",
    "import keyboard\n",
    "\n",
    "keyboard.wait(\"p\")\n",
    "print(\"You pressed p\")"
   ]
  },
  {
   "cell_type": "code",
   "execution_count": 7,
   "metadata": {},
   "outputs": [
    {
     "name": "stdout",
     "output_type": "stream",
     "text": [
      "You pressed p\n"
     ]
    }
   ],
   "source": [
    "# this works\n",
    "import keyboard\n",
    "\n",
    "while True:\n",
    "    if keyboard.read_key() == \"p\":\n",
    "        print(\"You pressed p\")\n",
    "        break"
   ]
  },
  {
   "cell_type": "code",
   "execution_count": 14,
   "metadata": {},
   "outputs": [
    {
     "name": "stdout",
     "output_type": "stream",
     "text": [
      "345\n",
      "345\n",
      "345\n",
      "345\n",
      "345\n",
      "345\n",
      "345\n",
      "345\n",
      "345\n",
      "345\n",
      "\n"
     ]
    }
   ],
   "source": [
    "from IPython.display import clear_output\n",
    "print (\"34\\n\"*10)\n",
    "clear_output()\n",
    "print (\"345\\n\"*10)"
   ]
  }
 ],
 "metadata": {
  "colab": {
   "provenance": []
  },
  "kernelspec": {
   "display_name": "Python 3 (ipykernel)",
   "language": "python",
   "name": "python3"
  },
  "language_info": {
   "codemirror_mode": {
    "name": "ipython",
    "version": 3
   },
   "file_extension": ".py",
   "mimetype": "text/x-python",
   "name": "python",
   "nbconvert_exporter": "python",
   "pygments_lexer": "ipython3",
   "version": "3.8.18"
  }
 },
 "nbformat": 4,
 "nbformat_minor": 4
}
